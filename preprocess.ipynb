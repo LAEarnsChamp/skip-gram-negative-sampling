{
 "cells": [
  {
   "cell_type": "code",
   "execution_count": 1,
   "metadata": {},
   "outputs": [],
   "source": [
    "# !/usr/bin/python\n",
    "# -*- coding: UTF-8 -*-\n",
    "# preprocess\n",
    "\n",
    "import pkuseg\n",
    "# from collections import Counter"
   ]
  },
  {
   "cell_type": "code",
   "execution_count": 2,
   "metadata": {},
   "outputs": [
    {
     "name": "stdout",
     "output_type": "stream",
     "text": [
      "zhihu done\n"
     ]
    }
   ],
   "source": [
    "# names = [\"game\", \"internet\", \"japan\", \"literature\", \"movie\", \"music\", \"operation\", \"travel\"]\n",
    "names = [\"zhihu\"]\n",
    "\n",
    "seg = pkuseg.pkuseg(\"web\")           # 以默认配置加载模型\n",
    "\n",
    "token = 0\n",
    "vocab = set()\n",
    "\n",
    "for name in names:\n",
    "    with open(\"source/{}.txt\".format(name), 'r', encoding='utf-8') as fin, \\\n",
    "        open(\"source/seg_{}.txt\".format(name), 'w', encoding='utf-8') as fout, \\\n",
    "        open(\"result/summarization.txt\", 'a', encoding='utf-8') as fsum:\n",
    "        for line in fin.readlines():\n",
    "            text = seg.cut(line.strip(\"\\n\"))\n",
    "            token += len(text)\n",
    "\n",
    "            c = set(text)\n",
    "            vocab.update(c) \n",
    "\n",
    "            fout.write(\"{}\\n\".format(\" \".join(text)))\n",
    "        fsum.write(\"name: {}, vocab: {}, token: {}\\n\".format(name, len(vocab), token))\n",
    "        print(\"{} done\".format(name))"
   ]
  },
  {
   "cell_type": "code",
   "execution_count": 3,
   "metadata": {},
   "outputs": [],
   "source": [
    "# # output\n",
    "# data_train.to_csv(\"source/data_train_seg.csv\", index=None, encoding='utf_8_sig')\n",
    "# data_test.to_csv(\"source/data_test_seg.csv\", index=None, encoding='utf_8_sig')"
   ]
  },
  {
   "cell_type": "code",
   "execution_count": null,
   "metadata": {},
   "outputs": [],
   "source": []
  }
 ],
 "metadata": {
  "kernelspec": {
   "display_name": "Python 3",
   "language": "python",
   "name": "python3"
  },
  "language_info": {
   "codemirror_mode": {
    "name": "ipython",
    "version": 3
   },
   "file_extension": ".py",
   "mimetype": "text/x-python",
   "name": "python",
   "nbconvert_exporter": "python",
   "pygments_lexer": "ipython3",
   "version": "3.7.6"
  }
 },
 "nbformat": 4,
 "nbformat_minor": 4
}
