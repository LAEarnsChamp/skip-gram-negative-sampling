{
 "cells": [
  {
   "cell_type": "code",
   "execution_count": 1,
   "metadata": {},
   "outputs": [],
   "source": [
    "# !/usr/bin/python\n",
    "# -*- coding: UTF-8 -*-\n",
    "# train\n",
    "\n",
    "import model\n",
    "import dataloader\n",
    "import torch"
   ]
  },
  {
   "cell_type": "code",
   "execution_count": 2,
   "metadata": {},
   "outputs": [],
   "source": [
    "name = \"att_baike\" # target file\n",
    "file = \"seg_baike\" # seg file\n",
    "\n",
    "MAX_VOCAB_SIZE = \"all\" # the vocabulary size, of if is \"all\", take all words\n",
    "\n",
    "EMBED_SIZE = 256 # word vector size\n",
    "WINDOW = 5 # context window\n",
    "INTERVAL = 0\n",
    "NEGATIVE = 10 # number of negative samples for each context word\n",
    "\n",
    "BATCH_SIZE = 150\n",
    "EPOCH = 10\n",
    "LR = 0.001"
   ]
  },
  {
   "cell_type": "code",
   "execution_count": 3,
   "metadata": {},
   "outputs": [],
   "source": [
    "# dataloader\n",
    "from collections import Counter\n",
    "from torch.utils import data\n",
    "\n",
    "word_dict = dataloader.WordCounter2Dict()\n",
    "word_list = []\n",
    "with open(\"source/{}.txt\".format(file), 'r', encoding='utf-8') as fin:\n",
    "    c = Counter()\n",
    "    for line in fin.readlines():\n",
    "        text = line.strip().split(\" \") #分割成词列表\n",
    "        word_list.extend(text)\n",
    "        c += Counter(text)\n",
    "    word_dict.get_counter(c, MAX_VOCAB_SIZE)\n",
    "\n",
    "word_dataset = dataloader.WordDataset(word_list, word_dict, WINDOW, INTERVAL, NEGATIVE)\n",
    "wordloader = data.DataLoader(word_dataset, batch_size=BATCH_SIZE, shuffle=True, num_workers=0)\n",
    "MAX_VOCAB_SIZE = word_dict.getlen()"
   ]
  },
  {
   "cell_type": "code",
   "execution_count": 4,
   "metadata": {},
   "outputs": [
    {
     "name": "stdout",
     "output_type": "stream",
     "text": [
      "True\n"
     ]
    }
   ],
   "source": [
    "# model and cuda\n",
    "device = torch.device(\"cuda:0\" if torch.cuda.is_available() else \"cpu\")\n",
    "print(torch.cuda.is_available())\n",
    "\n",
    "net = model.WordVector(MAX_VOCAB_SIZE, EMBED_SIZE).to(device)"
   ]
  },
  {
   "cell_type": "code",
   "execution_count": 5,
   "metadata": {},
   "outputs": [
    {
     "name": "stderr",
     "output_type": "stream",
     "text": [
      "100%|█████████████████████████████████████████████████████████████████████████████████| 10/10 [35:47<00:00, 214.71s/it]\n"
     ]
    }
   ],
   "source": [
    "# train\n",
    "from tqdm import tqdm\n",
    "\n",
    "list_loss = []\n",
    "optimizer = torch.optim.Adam(net.parameters(), lr=LR)\n",
    "for epoch in tqdm(range(EPOCH)):\n",
    "    net.train()    \n",
    "#     change lr dynamicly\n",
    "#     if epoch%10==0:\n",
    "#         optimizer.param_groups[0]['lr'] *= 0.1\n",
    "#     train\n",
    "    for i, (cen_vocab_id, con_vocabs, con_vocabs_weight, neg_samples) in enumerate(wordloader):\n",
    "        cen_vocab_id = cen_vocab_id.to(device)\n",
    "        con_vocabs = con_vocabs.to(device)\n",
    "        con_vocabs_weight = con_vocabs_weight.to(device)\n",
    "        neg_samples = neg_samples.to(device)        \n",
    "\n",
    "        optimizer.zero_grad() \n",
    "        loss = net(cen_vocab_id, con_vocabs, con_vocabs_weight, neg_samples)\n",
    "        loss.backward()\n",
    "        optimizer.step()\n",
    "\n",
    "    list_loss.append(loss)"
   ]
  },
  {
   "cell_type": "code",
   "execution_count": 6,
   "metadata": {},
   "outputs": [
    {
     "data": {
      "text/html": [
       "<div>\n",
       "<style scoped>\n",
       "    .dataframe tbody tr th:only-of-type {\n",
       "        vertical-align: middle;\n",
       "    }\n",
       "\n",
       "    .dataframe tbody tr th {\n",
       "        vertical-align: top;\n",
       "    }\n",
       "\n",
       "    .dataframe thead th {\n",
       "        text-align: right;\n",
       "    }\n",
       "</style>\n",
       "<table border=\"1\" class=\"dataframe\">\n",
       "  <thead>\n",
       "    <tr style=\"text-align: right;\">\n",
       "      <th></th>\n",
       "      <th>words</th>\n",
       "      <th>vectors</th>\n",
       "    </tr>\n",
       "  </thead>\n",
       "  <tbody>\n",
       "    <tr>\n",
       "      <th>0</th>\n",
       "      <td>，</td>\n",
       "      <td>[-0.03429354, 0.050134704, 0.024060125, 0.0936...</td>\n",
       "    </tr>\n",
       "    <tr>\n",
       "      <th>1</th>\n",
       "      <td>的</td>\n",
       "      <td>[0.05852192, 0.04801449, 0.103424594, 0.145902...</td>\n",
       "    </tr>\n",
       "    <tr>\n",
       "      <th>2</th>\n",
       "      <td>。</td>\n",
       "      <td>[0.12474231, 0.009065641, 0.007999456, 0.16179...</td>\n",
       "    </tr>\n",
       "    <tr>\n",
       "      <th>3</th>\n",
       "      <td>是</td>\n",
       "      <td>[0.066203885, 0.0727198, -0.0519521, 0.0806786...</td>\n",
       "    </tr>\n",
       "    <tr>\n",
       "      <th>4</th>\n",
       "      <td>了</td>\n",
       "      <td>[-0.15804285, 0.09725754, 0.12928239, 0.087344...</td>\n",
       "    </tr>\n",
       "  </tbody>\n",
       "</table>\n",
       "</div>"
      ],
      "text/plain": [
       "  words                                            vectors\n",
       "0     ，  [-0.03429354, 0.050134704, 0.024060125, 0.0936...\n",
       "1     的  [0.05852192, 0.04801449, 0.103424594, 0.145902...\n",
       "2     。  [0.12474231, 0.009065641, 0.007999456, 0.16179...\n",
       "3     是  [0.066203885, 0.0727198, -0.0519521, 0.0806786...\n",
       "4     了  [-0.15804285, 0.09725754, 0.12928239, 0.087344..."
      ]
     },
     "execution_count": 6,
     "metadata": {},
     "output_type": "execute_result"
    }
   ],
   "source": [
    "import numpy\n",
    "import pandas as pd\n",
    "\n",
    "words = word_dict.id2word()\n",
    "vectors = list(net.getvectors().cpu().numpy())\n",
    "dataframe = {\"words\": words, \"vectors\": vectors}\n",
    "dataframe = pd.DataFrame(dataframe)\n",
    "dataframe.head()"
   ]
  },
  {
   "cell_type": "code",
   "execution_count": 7,
   "metadata": {},
   "outputs": [],
   "source": [
    "import pickle\n",
    "\n",
    "with open(\"result/{}\".format(name), 'wb') as f:\n",
    "    pickle.dump(dataframe, f)"
   ]
  },
  {
   "cell_type": "code",
   "execution_count": 8,
   "metadata": {},
   "outputs": [],
   "source": [
    "with open(\"param_adjustment.txt\", 'a', encoding='utf-8') as f:\n",
    "    f.write(\"name: {name}\\n\\\n",
    "MAX_VOCAB_SIZE:{a}, \\\n",
    "EMBED_SIZE:{b}, \\\n",
    "WINDOW:{w}, \\\n",
    "INTERVAL:{i}, \\\n",
    "NEGATIVE:{c}, \\\n",
    "BATCH_SIZE:{d}, \\\n",
    "EPOCH:{e}, \\\n",
    "LR:{f}, \\\n",
    "loss:{loss}\\n\".\\\n",
    "    format(name=name, a=MAX_VOCAB_SIZE, b=EMBED_SIZE, w=WINDOW, i=INTERVAL, c=NEGATIVE, d=BATCH_SIZE, e=EPOCH, f=LR, loss=list_loss[-1]))"
   ]
  },
  {
   "cell_type": "code",
   "execution_count": 9,
   "metadata": {},
   "outputs": [],
   "source": [
    "# with open(\"result/ca_evaluation/test.txt\", 'w', encoding='utf-8') as f:\n",
    "#     f.write(\"{} {}\\n\".format(MAX_VOCAB_SIZE, EMBED_SIZE))\n",
    "#     for word, vector in zip(words, vectors):\n",
    "#         f.write(\"{} {}\\n\".format(word, \" \".join('{}'.format(i) for i in vector)))"
   ]
  },
  {
   "cell_type": "code",
   "execution_count": 10,
   "metadata": {},
   "outputs": [],
   "source": [
    "# \" \".join('{}'.format(i) fordd i in vectors[0])"
   ]
  },
  {
   "cell_type": "code",
   "execution_count": null,
   "metadata": {},
   "outputs": [],
   "source": []
  }
 ],
 "metadata": {
  "kernelspec": {
   "display_name": "Python 3",
   "language": "python",
   "name": "python3"
  },
  "language_info": {
   "codemirror_mode": {
    "name": "ipython",
    "version": 3
   },
   "file_extension": ".py",
   "mimetype": "text/x-python",
   "name": "python",
   "nbconvert_exporter": "python",
   "pygments_lexer": "ipython3",
   "version": "3.7.6"
  }
 },
 "nbformat": 4,
 "nbformat_minor": 4
}
