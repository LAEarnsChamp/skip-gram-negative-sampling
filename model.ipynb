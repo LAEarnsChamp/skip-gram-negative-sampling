{
 "cells": [
  {
   "cell_type": "code",
   "execution_count": 10,
   "metadata": {},
   "outputs": [],
   "source": [
    "# !/usr/bin/python\n",
    "# -*- coding: UTF-8 -*-\n",
    "# model\n",
    "\n",
    "import numpy as np\n",
    "import torch\n",
    "from torch import nn\n",
    "import torch.nn.functional as F"
   ]
  },
  {
   "cell_type": "code",
   "execution_count": 11,
   "metadata": {},
   "outputs": [],
   "source": [
    "class WordVector(nn.Module):\n",
    "    def __init__(self, vocab_num, embed_dim):\n",
    "        super().__init__()       \n",
    "#         word embed\n",
    "        self.inputword_embed = nn.Embedding(vocab_num, embed_dim, sparse=False)\n",
    "        self.sample_embed = nn.Embedding(vocab_num, embed_dim, sparse=False)\n",
    "#         init weight\n",
    "        initrange = 0.5 / embed_dim\n",
    "        self.inputword_embed.weight.data.uniform_(-initrange, initrange)\n",
    "        self.sample_embed.weight.data.uniform_(-initrange, initrange)\n",
    "        \n",
    "#         word_ztf: (1, embed_dim + 1) to hidden: (1, embed_dim)\n",
    "#         self.i2o = nn.Linear(embed_dim + 1, embed_dim)\n",
    "        \n",
    "    def forward(self, cen_vocab_id, con_vocabs_id, con_vocabs_weight, neg_samples_id):\n",
    "#         output: (count input word, embed_dim)\n",
    "       \n",
    "#         (count input word, embed_dim, 1)\n",
    "        input_embed = self.inputword_embed(cen_vocab_id).unsqueeze(2)\n",
    "        \n",
    "#         use context matrix adjust word embed\n",
    "#         (count input word, 2WINDOW, embed_dim)\n",
    "        con_embed = self.sample_embed(con_vocabs_id)\n",
    "#         (count input word, 2WINDOW), each row represent an adjusted word embed\n",
    "        log_con_cen = torch.bmm(con_embed, input_embed).squeeze(2)\n",
    "# ------weight\n",
    "        con_vocabs_weight = 1 - F.softmax(con_vocabs_weight, dim=1)\n",
    "        log_con_cen = log_con_cen.mul(con_vocabs_weight)\n",
    "        log_con_cen = F.logsigmoid(log_con_cen).sum(1) # sum by col, size: (count input word)\n",
    "        \n",
    "# ------sampling types\n",
    "# and in dataloader.py\n",
    "\n",
    "#         1. negative\n",
    "        neg_embed = self.sample_embed(neg_samples_id) # (count input word, 2WINDOW * NEGATIVE, embed_dim)\n",
    "        log_neg_cen = torch.bmm(neg_embed, -input_embed).squeeze(2) # size: (count input word, 2WINDOW)\n",
    "        log_neg_cen = F.logsigmoid(log_neg_cen).sum(1) # sum by col, size: (count input word)\n",
    "        loss = log_con_cen + log_neg_cen\n",
    "# #         2. no negative\n",
    "#         loss = log_con_cen\n",
    "        return (-loss).mean()\n",
    "    \n",
    "    def getvectors(self):\n",
    "        return self.inputword_embed.weight.data"
   ]
  },
  {
   "cell_type": "code",
   "execution_count": null,
   "metadata": {},
   "outputs": [],
   "source": []
  }
 ],
 "metadata": {
  "kernelspec": {
   "display_name": "Python 3",
   "language": "python",
   "name": "python3"
  },
  "language_info": {
   "codemirror_mode": {
    "name": "ipython",
    "version": 3
   },
   "file_extension": ".py",
   "mimetype": "text/x-python",
   "name": "python",
   "nbconvert_exporter": "python",
   "pygments_lexer": "ipython3",
   "version": "3.7.6"
  }
 },
 "nbformat": 4,
 "nbformat_minor": 4
}
